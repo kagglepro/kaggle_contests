{
 "cells": [
  {
   "cell_type": "code",
   "execution_count": null,
   "id": "35515efa",
   "metadata": {},
   "outputs": [],
   "source": [
    "# Setting up experiement and experiment ID"
   ]
  },
  {
   "cell_type": "code",
   "execution_count": 9,
   "id": "3f694d99",
   "metadata": {},
   "outputs": [],
   "source": [
    "import mlflow\n",
    "\n",
    "# Get the current tracking URI\n",
    "print(mlflow.get_tracking_uri())\n",
    "exp_id = mlflow.create_experiment(\"titanic\")\n",
    "print(exp_id)"
   ]
  },
  {
   "cell_type": "code",
   "execution_count": null,
   "id": "165a68a8",
   "metadata": {},
   "outputs": [],
   "source": [
    "target_col = \"Survived\"  # Target Feature to be modelled"
   ]
  },
  {
   "cell_type": "code",
   "execution_count": null,
   "id": "c7066c83",
   "metadata": {},
   "outputs": [],
   "source": [
    "## Reading Data"
   ]
  },
  {
   "cell_type": "code",
   "execution_count": null,
   "id": "51188283",
   "metadata": {},
   "outputs": [],
   "source": [
    "import mlflow\n",
    "import os\n",
    "import uuid\n",
    "import pandas as pd\n",
    "import tempfile\n",
    "\n",
    "# Replace 'path_to_your_file.csv' with the actual path to your CSV file\n",
    "df = pd.read_csv('train.csv')\n",
    "\n",
    "# Display the first few rows of the DataFrame\n",
    "print(df.head())"
   ]
  },
  {
   "cell_type": "code",
   "execution_count": 5,
   "id": "6b08516b",
   "metadata": {},
   "outputs": [],
   "source": [
    "### Select supported columns"
   ]
  },
  {
   "cell_type": "code",
   "execution_count": null,
   "id": "d9885135",
   "metadata": {},
   "outputs": [],
   "source": [
    "import pandas as pd\n",
    "\n",
    "# Assuming df is your DataFrame and it's already defined\n",
    "# df = pd.read_csv('your_dataset.csv') \n",
    "\n",
    "supported_cols = [\"Pclass\", \"Cabin\", \"Age\", \"Fare\", \"Ticket\", \"PassengerId\", \"Parch\", \"Embarked\", \"Sex\", \"SibSp\"]\n",
    "\n",
    "# Selecting the desired columns\n",
    "df_selected = df[supported_cols]\n",
    "\n",
    "\n",
    "from sklearn.base import BaseEstimator, TransformerMixin\n",
    "\n",
    "class ColumnSelector(BaseEstimator, TransformerMixin):\n",
    "    def __init__(self, columns):\n",
    "        self.columns = columns\n",
    "\n",
    "    def fit(self, X, y=None):\n",
    "        return self\n",
    "\n",
    "    def transform(self, X):\n",
    "        assert isinstance(X, pd.DataFrame)\n",
    "        return X[self.columns]\n",
    "\n",
    "supported_cols = [\"Pclass\", \"Cabin\", \"Age\", \"Fare\", \"Ticket\", \"PassengerId\", \"Parch\", \"Embarked\", \"Sex\", \"SibSp\"]\n",
    "col_selector = ColumnSelector(supported_cols)\n"
   ]
  },
  {
   "cell_type": "code",
   "execution_count": 6,
   "id": "52b04877",
   "metadata": {},
   "outputs": [],
   "source": [
    "## Preprocessors"
   ]
  },
  {
   "cell_type": "code",
   "execution_count": null,
   "id": "726a7b41",
   "metadata": {},
   "outputs": [],
   "source": [
    "# Boolean Columns: For each column, impute missing values and then convert into ones and zeros.\n",
    "\n",
    "from sklearn.compose import ColumnTransformer\n",
    "from sklearn.impute import SimpleImputer\n",
    "from sklearn.pipeline import Pipeline\n",
    "from sklearn.preprocessing import FunctionTransformer\n",
    "from sklearn.preprocessing import OneHotEncoder as SklearnOneHotEncoder\n",
    "\n",
    "\n",
    "bool_imputers = []\n",
    "\n",
    "bool_pipeline = Pipeline(steps=[\n",
    "    (\"cast_type\", FunctionTransformer(lambda df: df.astype(object))),\n",
    "    (\"imputers\", ColumnTransformer(bool_imputers, remainder=\"passthrough\")),\n",
    "    (\"onehot\", SklearnOneHotEncoder(handle_unknown=\"ignore\", drop=\"first\")),\n",
    "])\n",
    "\n",
    "bool_transformers = [(\"boolean\", bool_pipeline, [\"Sex\"])]\n",
    "\n",
    "\n",
    "## Numerical Columns: Missing values for numerical columns are imputed with mean by default.\n",
    "\n",
    "from sklearn.compose import ColumnTransformer\n",
    "from sklearn.impute import SimpleImputer\n",
    "from sklearn.pipeline import Pipeline\n",
    "from sklearn.preprocessing import FunctionTransformer, StandardScaler\n",
    "\n",
    "num_imputers = []\n",
    "num_imputers.append((\"impute_mean\", SimpleImputer(), [\"Age\", \"Fare\", \"Parch\", \"PassengerId\", \"Pclass\", \"SibSp\"]))\n",
    "\n",
    "numerical_pipeline = Pipeline(steps=[\n",
    "    (\"converter\", FunctionTransformer(lambda df: df.apply(pd.to_numeric, errors='coerce'))),\n",
    "    (\"imputers\", ColumnTransformer(num_imputers)),\n",
    "    (\"standardizer\", StandardScaler()),\n",
    "])\n",
    "\n",
    "numerical_transformers = [(\"numerical\", numerical_pipeline, [\"Pclass\", \"Age\", \"Fare\", \"PassengerId\", \"Parch\", \"SibSp\"])]\n",
    "\n",
    "\n",
    "## Categorical Columns: Convert each low-cardinality categorical column into multiple binary columns through one-hot encoding.\n",
    "# For each input categorical column (string or numeric), the number of output columns is equal to the number of unique values in the input column.\n",
    "\n",
    "from sklearn.preprocessing import OneHotEncoder\n",
    "from sklearn.compose import ColumnTransformer\n",
    "from sklearn.impute import SimpleImputer\n",
    "from sklearn.pipeline import Pipeline\n",
    "\n",
    "# Define a pipeline to apply SimpleImputer and OneHotEncoder\n",
    "one_hot_pipeline = Pipeline(steps=[\n",
    "    (\"imputer\", SimpleImputer(strategy='most_frequent')),  # you can adjust the strategy parameter as needed\n",
    "    (\"one_hot_encoder\", OneHotEncoder(handle_unknown=\"ignore\"))  # \"ignore\" to avoid errors when the test set contains classes not present in training set\n",
    "])\n",
    "\n",
    "categorical_cols = [\"Cabin\", \"Embarked\", \"Parch\", \"Pclass\", \"SibSp\", \"Ticket\"]\n",
    "\n",
    "categorical_one_hot_transformers = [(col, one_hot_pipeline, [col]) for col in categorical_cols]\n"
   ]
  },
  {
   "cell_type": "code",
   "execution_count": null,
   "id": "fe5a515e",
   "metadata": {},
   "outputs": [],
   "source": [
    "from sklearn.compose import ColumnTransformer\n",
    "\n",
    "transformers = bool_transformers + numerical_transformers + categorical_one_hot_transformers\n",
    "\n",
    "preprocessor = ColumnTransformer(transformers, remainder=\"passthrough\", sparse_threshold=1)"
   ]
  },
  {
   "cell_type": "code",
   "execution_count": 7,
   "id": "ec3c3f57",
   "metadata": {},
   "outputs": [],
   "source": [
    "## Train - Validate - Test"
   ]
  },
  {
   "cell_type": "code",
   "execution_count": null,
   "id": "db3a0885",
   "metadata": {},
   "outputs": [],
   "source": [
    "from sklearn.model_selection import train_test_split\n",
    "\n",
    "# Assuming df is your DataFrame, target_col is your target column\n",
    "X = df.drop([target_col], axis=1)\n",
    "y = df[target_col]\n",
    "\n",
    "# Split the data into training and remaining data (80-20 split)\n",
    "X_temp, X_test, y_temp, y_test = train_test_split(X, y, test_size=0.2, random_state=42)\n",
    "\n",
    "# Split the remaining data into training and validation data (80-20 split)\n",
    "X_train, X_val, y_train, y_val = train_test_split(X_temp, y_temp, test_size=0.2, random_state=42)"
   ]
  },
  {
   "cell_type": "code",
   "execution_count": null,
   "id": "fb1922ca",
   "metadata": {},
   "outputs": [],
   "source": [
    "from sklearn.linear_model import LogisticRegression\n",
    "\n",
    "# help(LogisticRegression)"
   ]
  },
  {
   "cell_type": "code",
   "execution_count": null,
   "id": "78a8c6c0",
   "metadata": {},
   "outputs": [],
   "source": [
    "# Model Training"
   ]
  },
  {
   "cell_type": "code",
   "execution_count": null,
   "id": "206a16fb",
   "metadata": {},
   "outputs": [],
   "source": [
    "import mlflow\n",
    "from mlflow.models import Model, infer_signature, ModelSignature\n",
    "from mlflow.pyfunc import PyFuncModel\n",
    "from mlflow import pyfunc\n",
    "import sklearn\n",
    "from sklearn import set_config\n",
    "from sklearn.pipeline import Pipeline\n",
    "\n",
    "from hyperopt import hp, tpe, fmin, STATUS_OK, Trials\n",
    "\n",
    "def objective(params):\n",
    "  with mlflow.start_run(experiment_id=\"exp_id\") as mlflow_run:     # Make sure to declare the exp_id\n",
    "    sklr_classifier = LogisticRegression(**params)\n",
    "\n",
    "    model = Pipeline([\n",
    "        (\"column_selector\", col_selector),\n",
    "        (\"preprocessor\", preprocessor),\n",
    "        (\"classifier\", sklr_classifier),\n",
    "    ])\n",
    "\n",
    "    # Enable automatic logging of input samples, metrics, parameters, and models\n",
    "    mlflow.sklearn.autolog(\n",
    "        log_input_examples=True,\n",
    "        silent=True)\n",
    "\n",
    "    model.fit(X_train, y_train)\n",
    "\n",
    "    \n",
    "    # Log metrics for the training set\n",
    "    mlflow_model = Model()\n",
    "    pyfunc.add_to_model(mlflow_model, loader_module=\"mlflow.sklearn\")\n",
    "    pyfunc_model = PyFuncModel(model_meta=mlflow_model, model_impl=model)\n",
    "    training_eval_result = mlflow.evaluate(\n",
    "        model=pyfunc_model,\n",
    "        data=X_train.assign(**{str(target_col):y_train}),\n",
    "        targets=target_col,\n",
    "        model_type=\"classifier\",\n",
    "        evaluator_config = {\"log_model_explainability\": False,\n",
    "                            \"metric_prefix\": \"training_\" , \"pos_label\": 1 }\n",
    "    )\n",
    "    sklr_training_metrics = training_eval_result.metrics\n",
    "    # Log metrics for the validation set\n",
    "    val_eval_result = mlflow.evaluate(\n",
    "        model=pyfunc_model,\n",
    "        data=X_val.assign(**{str(target_col):y_val}),\n",
    "        targets=target_col,\n",
    "        model_type=\"classifier\",\n",
    "        evaluator_config = {\"log_model_explainability\": False,\n",
    "                            \"metric_prefix\": \"val_\" , \"pos_label\": 1 }\n",
    "    )\n",
    "    sklr_val_metrics = val_eval_result.metrics\n",
    "    # Log metrics for the test set\n",
    "    test_eval_result = mlflow.evaluate(\n",
    "        model=pyfunc_model,\n",
    "        data=X_test.assign(**{str(target_col):y_test}),\n",
    "        targets=target_col,\n",
    "        model_type=\"classifier\",\n",
    "        evaluator_config = {\"log_model_explainability\": False,\n",
    "                            \"metric_prefix\": \"test_\" , \"pos_label\": 1 }\n",
    "    )\n",
    "    sklr_test_metrics = test_eval_result.metrics\n",
    "\n",
    "    loss = sklr_val_metrics[\"val_roc_auc\"]\n",
    "\n",
    "    # Truncate metric key names so they can be displayed together\n",
    "    sklr_val_metrics = {k.replace(\"val_\", \"\"): v for k, v in sklr_val_metrics.items()}\n",
    "    sklr_test_metrics = {k.replace(\"test_\", \"\"): v for k, v in sklr_test_metrics.items()}\n",
    "\n",
    "    return {\n",
    "      \"loss\": loss,\n",
    "      \"status\": STATUS_OK,\n",
    "      \"val_metrics\": sklr_val_metrics,\n",
    "      \"test_metrics\": sklr_test_metrics,\n",
    "      \"model\": model,\n",
    "      \"run\": mlflow_run,\n",
    "    }"
   ]
  },
  {
   "cell_type": "code",
   "execution_count": 8,
   "id": "7fb71b92",
   "metadata": {},
   "outputs": [],
   "source": [
    "# Configure HyperParameter"
   ]
  },
  {
   "cell_type": "code",
   "execution_count": null,
   "id": "d7a8a3c7",
   "metadata": {},
   "outputs": [],
   "source": [
    "space = {\n",
    "  \"C\": 4.825020885796637,\n",
    "  \"penalty\": \"l2\",\n",
    "  \"random_state\": 719335539,\n",
    "}"
   ]
  },
  {
   "cell_type": "code",
   "execution_count": null,
   "id": "59dd5d0e",
   "metadata": {},
   "outputs": [],
   "source": [
    "# When widening the search space and training multiple models, switch to `SparkTrials` to parallelize\n",
    "# training on Spark:\n",
    "# ```\n",
    "# from hyperopt import SparkTrials\n",
    "# trials = SparkTrials()\n",
    "\n",
    "# ```"
   ]
  },
  {
   "cell_type": "code",
   "execution_count": null,
   "id": "54390e4f",
   "metadata": {},
   "outputs": [],
   "source": [
    "trials = Trials()\n",
    "fmin(objective,\n",
    "     space=space,\n",
    "     algo=tpe.suggest,\n",
    "     max_evals=1,  # Increase this when widening the hyperparameter search space.\n",
    "     trials=trials)\n",
    "\n",
    "best_result = trials.best_trial[\"result\"]\n",
    "model = best_result[\"model\"]\n",
    "mlflow_run = best_result[\"run\"]\n",
    "\n",
    "display(\n",
    "  pd.DataFrame(\n",
    "    [best_result[\"val_metrics\"], best_result[\"test_metrics\"]],\n",
    "    index=[\"validation\", \"test\"]))\n",
    "\n",
    "set_config(display=\"diagram\")\n",
    "model"
   ]
  },
  {
   "cell_type": "code",
   "execution_count": null,
   "id": "c1b4e5a3",
   "metadata": {},
   "outputs": [],
   "source": [
    "## Feature importance\n",
    "\n",
    "# SHAP is a game-theoretic approach to explain machine learning models, providing a summary plot\n",
    "# of the relationship between features and model output. Features are ranked in descending order of\n",
    "# importance, and impact/color describe the correlation between the feature and the target variable."
   ]
  },
  {
   "cell_type": "code",
   "execution_count": null,
   "id": "8974fb2e",
   "metadata": {},
   "outputs": [],
   "source": [
    "# Set this flag to True and re-run the notebook to see the SHAP plots\n",
    "shap_enabled = True\n",
    "if shap_enabled:\n",
    "    mlflow.autolog(disable=True)\n",
    "    mlflow.sklearn.autolog(disable=True)\n",
    "    from shap import KernelExplainer, summary_plot\n",
    "    # SHAP cannot explain models using data with nulls.\n",
    "    # To enable SHAP to succeed, both the background data and examples to explain are imputed with the mode (most frequent values).\n",
    "    mode = X_train.mode().iloc[0]\n",
    "\n",
    "    # Sample background data for SHAP Explainer. Increase the sample size to reduce variance.\n",
    "    train_sample = X_train.sample(n=min(100, X_train.shape[0]), random_state=719335539).fillna(mode)\n",
    "\n",
    "    # Sample some rows from the validation set to explain. Increase the sample size for more thorough results.\n",
    "    example = X_val.sample(n=min(100, X_val.shape[0]), random_state=719335539).fillna(mode)\n",
    "\n",
    "    # Use Kernel SHAP to explain feature importance on the sampled rows from the validation set.\n",
    "    predict = lambda x: model.predict(pd.DataFrame(x, columns=X_train.columns))\n",
    "    explainer = KernelExplainer(predict, train_sample, link=\"identity\")\n",
    "    shap_values = explainer.shap_values(example, l1_reg=False, nsamples=500)\n",
    "    summary_plot(shap_values, example, class_names=model.classes_)"
   ]
  },
  {
   "cell_type": "code",
   "execution_count": 11,
   "id": "860602b5",
   "metadata": {},
   "outputs": [],
   "source": [
    "#Downloading Artifacts and Plots"
   ]
  },
  {
   "cell_type": "code",
   "execution_count": null,
   "id": "4f632f3e",
   "metadata": {},
   "outputs": [],
   "source": [
    "import tempfile\n",
    "import os\n",
    "\n",
    "\n",
    "# Specify the desired download location\n",
    "custom_location = r\"location path\"   # Make sure to declare the location \n",
    "\n",
    "# Create the custom location directory if it doesn't exist\n",
    "# os.makedirs(custom_location, exist_ok=True)\n",
    "\n",
    "# Download the artifact to the custom location\n",
    "eval_path = mlflow.artifacts.download_artifacts(run_id=mlflow_run.info.run_id, dst_path=custom_location)\n",
    "\n",
    "# Check the location of the downloaded artifact\n",
    "print(\"Artifact downloaded to:\", eval_path)\n",
    "\n"
   ]
  },
  {
   "cell_type": "code",
   "execution_count": null,
   "id": "863d040e",
   "metadata": {},
   "outputs": [],
   "source": [
    "# Confusion Matrix"
   ]
  },
  {
   "cell_type": "code",
   "execution_count": null,
   "id": "98661a4a",
   "metadata": {},
   "outputs": [],
   "source": [
    "from PIL import Image\n",
    "import matplotlib.pyplot as plt\n",
    "\n",
    "eval_confusion_matrix_path = os.path.join(eval_path, \"training_confusion_matrix.png\")\n",
    "\n",
    "# Open the image file\n",
    "img = Image.open(eval_confusion_matrix_path)\n",
    "\n",
    "# Display the image\n",
    "plt.imshow(img)\n",
    "plt.show()\n"
   ]
  },
  {
   "cell_type": "code",
   "execution_count": null,
   "id": "62a58b97",
   "metadata": {},
   "outputs": [],
   "source": [
    "# RoC Curve"
   ]
  },
  {
   "cell_type": "code",
   "execution_count": null,
   "id": "3a6f0f0a",
   "metadata": {},
   "outputs": [],
   "source": [
    "import matplotlib.pyplot as plt\n",
    "import matplotlib.image as mpimg\n",
    "\n",
    "eval_roc_curve_path = os.path.join(eval_path, \"training_roc_curve_plot.png\")\n",
    "img = mpimg.imread(eval_roc_curve_path)\n",
    "plt.imshow(img)\n",
    "plt.axis('off')\n",
    "plt.show()\n"
   ]
  }
 ],
 "metadata": {
  "kernelspec": {
   "display_name": "Python 3 (ipykernel)",
   "language": "python",
   "name": "python3"
  },
  "language_info": {
   "codemirror_mode": {
    "name": "ipython",
    "version": 3
   },
   "file_extension": ".py",
   "mimetype": "text/x-python",
   "name": "python",
   "nbconvert_exporter": "python",
   "pygments_lexer": "ipython3",
   "version": "3.10.7"
  }
 },
 "nbformat": 4,
 "nbformat_minor": 5
}
